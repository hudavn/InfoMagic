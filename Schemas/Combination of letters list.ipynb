{
 "cells": [
  {
   "cell_type": "code",
   "execution_count": 3,
   "id": "5e3ed1c1",
   "metadata": {},
   "outputs": [],
   "source": [
    "import os"
   ]
  },
  {
   "cell_type": "code",
   "execution_count": 4,
   "id": "cb1ea97d",
   "metadata": {},
   "outputs": [],
   "source": [
    "limitperfile = 500000"
   ]
  },
  {
   "cell_type": "markdown",
   "id": "4b175315",
   "metadata": {},
   "source": [
    "# 7 letters list"
   ]
  },
  {
   "cell_type": "code",
   "execution_count": 3,
   "id": "e594f9c0",
   "metadata": {},
   "outputs": [],
   "source": [
    "!mkdir \"7_LETTERS\"\n",
    "C = ['b','c','d','f','g','h','j','k','l','m','n','p','q','r','s','t','v','w','x','y','z']\n",
    "V = ['u','e','o','a','i']"
   ]
  },
  {
   "cell_type": "markdown",
   "id": "ccdb8e75",
   "metadata": {},
   "source": [
    "### VCVCVCV"
   ]
  },
  {
   "cell_type": "code",
   "execution_count": 4,
   "id": "e3a5cd38",
   "metadata": {},
   "outputs": [],
   "source": [
    "listname = \"VCVCVCV\"\n",
    "!mkdir \"./7_LETTERS/VCVCVCV\"\n",
    "\n",
    "num_part = 0\n",
    "cnt = 0\n",
    "file = open(f\"./7_LETTERS/{listname}/part{num_part}.csv\", 'w')\n",
    "\n",
    "for a in V:\n",
    "    for b in C:\n",
    "        for c in V:\n",
    "            for d in C:\n",
    "                for e in V:\n",
    "                    for f in C:\n",
    "                        for g in V:\n",
    "                            content = a+b+c+d+e+f+g+'\\n'\n",
    "                            cnt = (cnt + 1)%limitperfile    \n",
    "                            if cnt == 0:\n",
    "                                file.close()\n",
    "                                num_part += 1\n",
    "                                file = open(f\"./7_LETTERS/{listname}/part{num_part}.csv\", 'w')\n",
    "                            file.write(content)                            \n",
    "\n",
    "if not file.closed: file.close()"
   ]
  },
  {
   "cell_type": "markdown",
   "id": "eade979a",
   "metadata": {},
   "source": [
    "### CVCVCVC"
   ]
  },
  {
   "cell_type": "code",
   "execution_count": 5,
   "id": "f7058697",
   "metadata": {},
   "outputs": [],
   "source": [
    "listname = \"CVCVCVC\"\n",
    "!mkdir \"./7_LETTERS/CVCVCVC\"\n",
    "\n",
    "num_part = 0\n",
    "cnt = 0\n",
    "limitperfile = 500000\n",
    "file = open(f\"./7_LETTERS/{listname}/part{num_part}.csv\", 'w')\n",
    "\n",
    "for a in C:\n",
    "    for b in V:\n",
    "        for c in C:\n",
    "            for d in V:\n",
    "                for e in C:\n",
    "                    for f in V:\n",
    "                        for g in C:\n",
    "                            content = a+b+c+d+e+f+g+'\\n'\n",
    "                            cnt = (cnt + 1)%limitperfile    \n",
    "                            if cnt == 0:\n",
    "                                file.close()\n",
    "                                num_part += 1\n",
    "                                file = open(f\"./7_LETTERS/{listname}/part{num_part}.csv\", 'w')\n",
    "                            file.write(content)                            "
   ]
  },
  {
   "cell_type": "code",
   "execution_count": 1,
   "id": "4c67a752",
   "metadata": {},
   "outputs": [],
   "source": [
    "def choosenLettersList(key):\n",
    "    if key == 'C' or key == 'S':\n",
    "        return sorted(['b','c','d','f','g','h','j','k','l','m','n','p','q','r','s','t','v','w','x','y','z'])\n",
    "    \n",
    "    if key == 'V':\n",
    "        return sorted(['u','e','o','a','i'])\n",
    "    \n",
    "    if key == 'L': \n",
    "        return sorted(['b','c','d','f','g','h','j','k','l','m','n','p','q','r','s','t','v','w','x','y','z'] + ['u','e','o','a','i'])  \n",
    "    \n",
    "    if key == '#':\n",
    "        return ['0','1','2','3','4','5','6','7','8','9']\n",
    "    \n",
    "    if key in ['Y','N','T','R']: \n",
    "        return key.lower()"
   ]
  },
  {
   "cell_type": "markdown",
   "id": "cc674c41",
   "metadata": {},
   "source": [
    "# 5 letters list\n",
    "- CVCVC\n",
    "- VCVCV\n",
    "- VCVCY\n",
    "- VCYCV\n",
    "- CVCYC\n",
    "- CVSSV"
   ]
  },
  {
   "cell_type": "code",
   "execution_count": 5,
   "id": "af1046c5",
   "metadata": {},
   "outputs": [],
   "source": [
    "def generateCombination(file, path, form, cur, limit, content, cnt, part):\n",
    "    if cnt == 0:\n",
    "        file = open(f'./{path}/{form}/part{part}.csv','w')\n",
    "        part += 1\n",
    "        \n",
    "    if cur == limit:\n",
    "        content += '\\n'\n",
    "        file.write(content)\n",
    "        return\n",
    "    \n",
    "    if form[cur] == 'S' and form[cur-1] == 'S':\n",
    "        content+=content[-1]\n",
    "        generateCombination(file, path, form, cur + 1, limit, content, (cnt + 1)%limitperfile, part)\n",
    "    else:\n",
    "        for each in choosenLettersList(form[cur]):\n",
    "            generateCombination(file, path, form, cur + 1, limit, content + each, (cnt + 1)%limitperfile, part)"
   ]
  },
  {
   "cell_type": "code",
   "execution_count": 8,
   "id": "5713d288",
   "metadata": {},
   "outputs": [
    {
     "name": "stderr",
     "output_type": "stream",
     "text": [
      "mkdir: cannot create directory ‘5_LETTERS’: File exists\n",
      "mkdir: cannot create directory ‘./5_LETTERS/CVCVC’: File exists\n",
      "mkdir: cannot create directory ‘./5_LETTERS/VCVCV’: File exists\n",
      "mkdir: cannot create directory ‘./5_LETTERS/VCVCY’: File exists\n",
      "mkdir: cannot create directory ‘./5_LETTERS/VCYCV’: File exists\n",
      "mkdir: cannot create directory ‘./5_LETTERS/CVCYC’: File exists\n",
      "mkdir: cannot create directory ‘./5_LETTERS/CVSSV’: File exists\n"
     ]
    }
   ],
   "source": [
    "listname = ['CVCVC', 'VCVCV', 'VCVCY', 'VCYCV', 'CVCYC', 'CVSSV', 'CVVCV']\n",
    "path = '5_LETTERS'\n",
    "\n",
    "os.system(f'mkdir {path}')\n",
    "for each in listname:\n",
    "    os.system(f'mkdir ./{path}/{each}')\n",
    "    generateCombination(None, path, each, 0, len(each), '', 0, 0)\n"
   ]
  },
  {
   "cell_type": "markdown",
   "id": "0407cd0f",
   "metadata": {},
   "source": [
    "# 4 LETTERS\n",
    "- CVCV\n",
    "- CVCY\n",
    "- CYCV\n",
    "- VCVC\n",
    "- CVVC\n",
    "- CCVV\n",
    "- VVCC\n",
    "- VCYC\n",
    "- CVCC\n",
    "- VCV#\n",
    "- CVC#\n",
    "- LLLL"
   ]
  },
  {
   "cell_type": "code",
   "execution_count": 9,
   "id": "eff4bd77",
   "metadata": {},
   "outputs": [],
   "source": [
    "listname = ['CVCV', \n",
    "'CVCY',\n",
    "'CYCV',\n",
    "'VCVC',\n",
    "'CVVC',\n",
    "'CCVV',\n",
    "'VVCC',\n",
    "'VCYC',\n",
    "'CVCC',\n",
    "'VCV#',\n",
    "'CVC#',\n",
    "'LLLL']\n",
    "path = '4_LETTERS'\n",
    "\n",
    "os.system(f'mkdir {path}')\n",
    "for each in listname:\n",
    "    os.system(f'mkdir ./{path}/{each}')\n",
    "    generateCombination(None, path, each, 0, len(each), '', 0, 0)"
   ]
  },
  {
   "cell_type": "markdown",
   "id": "f8aa2af7",
   "metadata": {},
   "source": [
    "# 3 LETTERS\n",
    "- LL#\n",
    "- LLL\n",
    "- ###"
   ]
  },
  {
   "cell_type": "code",
   "execution_count": 10,
   "id": "291f8c3d",
   "metadata": {},
   "outputs": [],
   "source": [
    "listname = ['LL#','LLL','###']\n",
    "path = '3_LETTERS'\n",
    "\n",
    "os.system(f'mkdir {path}')\n",
    "for each in listname:\n",
    "    os.system(f'mkdir ./{path}/{each}')\n",
    "    generateCombination(None, path, each, 0, len(each), '', 0, 0)"
   ]
  },
  {
   "cell_type": "markdown",
   "id": "1d3ea404",
   "metadata": {},
   "source": [
    "# 2 LETTERS\n",
    "- L#\n",
    "- #L\n",
    "- LL\n",
    "- ##"
   ]
  },
  {
   "cell_type": "code",
   "execution_count": 12,
   "id": "a84988e5",
   "metadata": {},
   "outputs": [
    {
     "name": "stderr",
     "output_type": "stream",
     "text": [
      "mkdir: cannot create directory ‘2_LETTERS’: File exists\n",
      "mkdir: cannot create directory ‘./2_LETTERS/L#’: File exists\n",
      "mkdir: cannot create directory ‘./2_LETTERS/LL’: File exists\n",
      "mkdir: cannot create directory ‘./2_LETTERS/##’: File exists\n"
     ]
    }
   ],
   "source": [
    "listname = ['L#','#L','LL','##']\n",
    "path = '2_LETTERS'\n",
    "\n",
    "os.system(f'mkdir {path}')\n",
    "for each in listname:\n",
    "    os.system(f'mkdir ./{path}/{each}')\n",
    "    generateCombination(None, path, each, 0, len(each), '', 0, 0)"
   ]
  },
  {
   "cell_type": "markdown",
   "id": "d50d18da",
   "metadata": {},
   "source": [
    "# 6 LETTERS"
   ]
  },
  {
   "cell_type": "code",
   "execution_count": 6,
   "id": "ad6d8ada",
   "metadata": {},
   "outputs": [],
   "source": [
    "listname = ['CVCVCV',\n",
    "'VCVCVC',\n",
    "'CCVCCV',\n",
    "'CVCCVC',\n",
    "'VCCVCY',\n",
    "'VCCVCV'\n",
    "]\n",
    "path = '6_LETTERS'\n",
    "\n",
    "os.system(f'mkdir {path}')\n",
    "for each in listname:\n",
    "    os.system(f'mkdir ./{path}/{each}')\n",
    "    generateCombination(None, path, each, 0, len(each), '', 0, 0)"
   ]
  },
  {
   "cell_type": "markdown",
   "id": "57e0dc09",
   "metadata": {},
   "source": [
    "# 7 LETTERS"
   ]
  },
  {
   "cell_type": "code",
   "execution_count": 7,
   "id": "0cc338ff",
   "metadata": {},
   "outputs": [
    {
     "name": "stderr",
     "output_type": "stream",
     "text": [
      "mkdir: cannot create directory ‘7_LETTERS’: File exists\n"
     ]
    }
   ],
   "source": [
    "listname = ['CVNTRVC']\n",
    "path = '7_LETTERS'\n",
    "\n",
    "os.system(f'mkdir {path}')\n",
    "for each in listname:\n",
    "    os.system(f'mkdir ./{path}/{each}')\n",
    "    generateCombination(None, path, each, 0, len(each), '', 0, 0)"
   ]
  },
  {
   "cell_type": "code",
   "execution_count": null,
   "id": "d90d4dcd",
   "metadata": {},
   "outputs": [],
   "source": []
  }
 ],
 "metadata": {
  "kernelspec": {
   "display_name": "Python 3 (ipykernel)",
   "language": "python",
   "name": "python3"
  },
  "language_info": {
   "codemirror_mode": {
    "name": "ipython",
    "version": 3
   },
   "file_extension": ".py",
   "mimetype": "text/x-python",
   "name": "python",
   "nbconvert_exporter": "python",
   "pygments_lexer": "ipython3",
   "version": "3.8.8"
  }
 },
 "nbformat": 4,
 "nbformat_minor": 5
}
